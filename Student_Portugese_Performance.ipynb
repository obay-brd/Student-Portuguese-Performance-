{
 "cells": [
  {
   "cell_type": "markdown",
   "metadata": {},
   "source": [
    "## Algorithms Specialist Tasks"
   ]
  },
  {
   "cell_type": "code",
   "execution_count": 57,
   "metadata": {},
   "outputs": [],
   "source": [
    "# Importing the necessary libraries for this assignment\n",
    "import pandas as pd\n",
    "import numpy as np\n",
    "import matplotlib.pyplot as plt\n",
    "import seaborn as sns\n",
    "import time as time\n",
    "import os"
   ]
  },
  {
   "cell_type": "markdown",
   "metadata": {},
   "source": [
    "For this assignnment, we were given two datasets to work with. One was the portugese class data, while the other was for the math class. Our objective is to analyze the dataset and make insights and reccommendations based on the analysis.\n",
    "For the purpose of the assignment, we will only be taking a look at the portugese class data"
   ]
  },
  {
   "cell_type": "code",
   "execution_count": 58,
   "metadata": {},
   "outputs": [],
   "source": [
    "portugal = pd.read_csv(\"C:\\\\Users\\\\obay\\\\OneDrive\\\\Documents\\\\student\\\\student-por.csv\", sep=';') # Reading in the datasets\n",
    "math = pd.read_csv(\"C:\\\\Users\\\\obay\\\\OneDrive\\\\Documents\\\\student\\\\student-mat.csv\", sep=';')"
   ]
  },
  {
   "cell_type": "code",
   "execution_count": 59,
   "metadata": {},
   "outputs": [
    {
     "data": {
      "text/html": [
       "<div>\n",
       "<style scoped>\n",
       "    .dataframe tbody tr th:only-of-type {\n",
       "        vertical-align: middle;\n",
       "    }\n",
       "\n",
       "    .dataframe tbody tr th {\n",
       "        vertical-align: top;\n",
       "    }\n",
       "\n",
       "    .dataframe thead th {\n",
       "        text-align: right;\n",
       "    }\n",
       "</style>\n",
       "<table border=\"1\" class=\"dataframe\">\n",
       "  <thead>\n",
       "    <tr style=\"text-align: right;\">\n",
       "      <th></th>\n",
       "      <th>school</th>\n",
       "      <th>sex</th>\n",
       "      <th>age</th>\n",
       "      <th>address</th>\n",
       "      <th>famsize</th>\n",
       "      <th>Pstatus</th>\n",
       "      <th>Medu</th>\n",
       "      <th>Fedu</th>\n",
       "      <th>Mjob</th>\n",
       "      <th>Fjob</th>\n",
       "      <th>...</th>\n",
       "      <th>famrel</th>\n",
       "      <th>freetime</th>\n",
       "      <th>goout</th>\n",
       "      <th>Dalc</th>\n",
       "      <th>Walc</th>\n",
       "      <th>health</th>\n",
       "      <th>absences</th>\n",
       "      <th>G1</th>\n",
       "      <th>G2</th>\n",
       "      <th>G3</th>\n",
       "    </tr>\n",
       "  </thead>\n",
       "  <tbody>\n",
       "    <tr>\n",
       "      <th>0</th>\n",
       "      <td>GP</td>\n",
       "      <td>F</td>\n",
       "      <td>18</td>\n",
       "      <td>U</td>\n",
       "      <td>GT3</td>\n",
       "      <td>A</td>\n",
       "      <td>4</td>\n",
       "      <td>4</td>\n",
       "      <td>at_home</td>\n",
       "      <td>teacher</td>\n",
       "      <td>...</td>\n",
       "      <td>4</td>\n",
       "      <td>3</td>\n",
       "      <td>4</td>\n",
       "      <td>1</td>\n",
       "      <td>1</td>\n",
       "      <td>3</td>\n",
       "      <td>4</td>\n",
       "      <td>0</td>\n",
       "      <td>11</td>\n",
       "      <td>11</td>\n",
       "    </tr>\n",
       "    <tr>\n",
       "      <th>1</th>\n",
       "      <td>GP</td>\n",
       "      <td>F</td>\n",
       "      <td>17</td>\n",
       "      <td>U</td>\n",
       "      <td>GT3</td>\n",
       "      <td>T</td>\n",
       "      <td>1</td>\n",
       "      <td>1</td>\n",
       "      <td>at_home</td>\n",
       "      <td>other</td>\n",
       "      <td>...</td>\n",
       "      <td>5</td>\n",
       "      <td>3</td>\n",
       "      <td>3</td>\n",
       "      <td>1</td>\n",
       "      <td>1</td>\n",
       "      <td>3</td>\n",
       "      <td>2</td>\n",
       "      <td>9</td>\n",
       "      <td>11</td>\n",
       "      <td>11</td>\n",
       "    </tr>\n",
       "    <tr>\n",
       "      <th>2</th>\n",
       "      <td>GP</td>\n",
       "      <td>F</td>\n",
       "      <td>15</td>\n",
       "      <td>U</td>\n",
       "      <td>LE3</td>\n",
       "      <td>T</td>\n",
       "      <td>1</td>\n",
       "      <td>1</td>\n",
       "      <td>at_home</td>\n",
       "      <td>other</td>\n",
       "      <td>...</td>\n",
       "      <td>4</td>\n",
       "      <td>3</td>\n",
       "      <td>2</td>\n",
       "      <td>2</td>\n",
       "      <td>3</td>\n",
       "      <td>3</td>\n",
       "      <td>6</td>\n",
       "      <td>12</td>\n",
       "      <td>13</td>\n",
       "      <td>12</td>\n",
       "    </tr>\n",
       "    <tr>\n",
       "      <th>3</th>\n",
       "      <td>GP</td>\n",
       "      <td>F</td>\n",
       "      <td>15</td>\n",
       "      <td>U</td>\n",
       "      <td>GT3</td>\n",
       "      <td>T</td>\n",
       "      <td>4</td>\n",
       "      <td>2</td>\n",
       "      <td>health</td>\n",
       "      <td>services</td>\n",
       "      <td>...</td>\n",
       "      <td>3</td>\n",
       "      <td>2</td>\n",
       "      <td>2</td>\n",
       "      <td>1</td>\n",
       "      <td>1</td>\n",
       "      <td>5</td>\n",
       "      <td>0</td>\n",
       "      <td>14</td>\n",
       "      <td>14</td>\n",
       "      <td>14</td>\n",
       "    </tr>\n",
       "    <tr>\n",
       "      <th>4</th>\n",
       "      <td>GP</td>\n",
       "      <td>F</td>\n",
       "      <td>16</td>\n",
       "      <td>U</td>\n",
       "      <td>GT3</td>\n",
       "      <td>T</td>\n",
       "      <td>3</td>\n",
       "      <td>3</td>\n",
       "      <td>other</td>\n",
       "      <td>other</td>\n",
       "      <td>...</td>\n",
       "      <td>4</td>\n",
       "      <td>3</td>\n",
       "      <td>2</td>\n",
       "      <td>1</td>\n",
       "      <td>2</td>\n",
       "      <td>5</td>\n",
       "      <td>0</td>\n",
       "      <td>11</td>\n",
       "      <td>13</td>\n",
       "      <td>13</td>\n",
       "    </tr>\n",
       "  </tbody>\n",
       "</table>\n",
       "<p>5 rows × 33 columns</p>\n",
       "</div>"
      ],
      "text/plain": [
       "  school sex  age address famsize Pstatus  Medu  Fedu     Mjob      Fjob  ...  \\\n",
       "0     GP   F   18       U     GT3       A     4     4  at_home   teacher  ...   \n",
       "1     GP   F   17       U     GT3       T     1     1  at_home     other  ...   \n",
       "2     GP   F   15       U     LE3       T     1     1  at_home     other  ...   \n",
       "3     GP   F   15       U     GT3       T     4     2   health  services  ...   \n",
       "4     GP   F   16       U     GT3       T     3     3    other     other  ...   \n",
       "\n",
       "  famrel freetime  goout  Dalc  Walc health absences  G1  G2  G3  \n",
       "0      4        3      4     1     1      3        4   0  11  11  \n",
       "1      5        3      3     1     1      3        2   9  11  11  \n",
       "2      4        3      2     2     3      3        6  12  13  12  \n",
       "3      3        2      2     1     1      5        0  14  14  14  \n",
       "4      4        3      2     1     2      5        0  11  13  13  \n",
       "\n",
       "[5 rows x 33 columns]"
      ]
     },
     "execution_count": 59,
     "metadata": {},
     "output_type": "execute_result"
    }
   ],
   "source": [
    "portugal.head()"
   ]
  },
  {
   "cell_type": "markdown",
   "metadata": {},
   "source": [
    "## Searching Algorithms"
   ]
  },
  {
   "cell_type": "markdown",
   "metadata": {},
   "source": [
    "We begin by using the search algorithms to find key metric or values based on the student's final grades (G3) in their portugese class. Our main objective will be to define the highest grade in the data set and iterate through the dataset to find the indices of the students with that gradde."
   ]
  },
  {
   "cell_type": "markdown",
   "metadata": {},
   "source": [
    "## Linear Search"
   ]
  },
  {
   "cell_type": "code",
   "execution_count": 60,
   "metadata": {},
   "outputs": [],
   "source": [
    "def LinearSearch(target, lyst):  # Defining the linear search function\n",
    "    position = 0 \n",
    "    while position < len(lyst):\n",
    "        if target == lyst[position]:\n",
    "            return position \n",
    "        position += 1 \n",
    "    return -1"
   ]
  },
  {
   "cell_type": "code",
   "execution_count": 61,
   "metadata": {},
   "outputs": [
    {
     "name": "stdout",
     "output_type": "stream",
     "text": [
      "Student with the highest first-period grade first occurs at index: 617\n",
      "Student with the highest second-period grade first occurs at index: 338\n",
      "Student with the highest final grade first occurs at index: 338\n"
     ]
    }
   ],
   "source": [
    "highest_first_period_grade = LinearSearch(max(portugal[\"G1\"]), portugal[\"G1\"])  # locating index for student with highest grade in first period class\n",
    "highest_second_period_grade = LinearSearch(max(portugal[\"G2\"]), portugal[\"G2\"])  # locating index for student with highest grade in second period class\n",
    "highest_final_grade = LinearSearch(max(portugal[\"G3\"]), portugal[\"G3\"])    # locating index for student with highest final grade\n",
    "\n",
    "\n",
    "print(f\"Student with the highest first-period grade first occurs at index: {highest_first_period_grade}\")\n",
    "print(f\"Student with the highest second-period grade first occurs at index: {highest_second_period_grade}\")\n",
    "print(f\"Student with the highest final grade first occurs at index: {highest_final_grade}\")"
   ]
  },
  {
   "cell_type": "markdown",
   "metadata": {},
   "source": [
    "## Binary Search"
   ]
  },
  {
   "cell_type": "code",
   "execution_count": 62,
   "metadata": {},
   "outputs": [],
   "source": [
    "def binary_search(target, lyst):\n",
    "    \"\"\"\n",
    "    Perform binary search to find the index of the target element in the given sorted array.\n",
    "\n",
    "    Parameters:\n",
    "    arr (list): Sorted list of elements to be searched.\n",
    "    target: Element to be searched for in the array.\n",
    "\n",
    "    Returns:\n",
    "    int: Index of the target element if found, otherwise -1.\n",
    "    \"\"\"\n",
    "    left, right = 0, len(lyst) - 1\n",
    "\n",
    "    while left <= right:\n",
    "        mid = (left + right) // 2\n",
    "        if lyst[mid] == target:\n",
    "            return mid\n",
    "        elif lyst[mid] < target:\n",
    "            left = mid + 1\n",
    "        else:\n",
    "            right = mid - 1\n",
    "    return - 1"
   ]
  },
  {
   "cell_type": "code",
   "execution_count": 63,
   "metadata": {},
   "outputs": [],
   "source": [
    "def binarySearch(target, lyst): # Defining the binary search function\n",
    "     \"\"\"Returns the position of the target item if found, \n",
    "     or -1 otherwise.\"\"\" \n",
    "     left = 0 \n",
    "     right = len(lyst) - 1 \n",
    "     while left <= right: \n",
    "         midpoint = (left + right) // 2 \n",
    "         if target == lyst[midpoint]: \n",
    "            return midpoint \n",
    "         elif target < lyst[midpoint]: \n",
    "            right = midpoint - 1        \n",
    "         else:\n",
    "            left = midpoint + 1         \n",
    "     return -1"
   ]
  },
  {
   "cell_type": "code",
   "execution_count": 64,
   "metadata": {},
   "outputs": [
    {
     "name": "stdout",
     "output_type": "stream",
     "text": [
      "Student with the highest first-period grade first occurs at index: 648\n",
      "Student with the highest second-period grade first occurs at index: 648\n",
      "Student with the highest final grade first occurs at index: 647\n"
     ]
    }
   ],
   "source": [
    "binary_highest_first_period_grade = binary_search(max(portugal[\"G1\"]), sorted(portugal[\"G1\"]))\n",
    "#binary_highest_first_period_grade = binary_search(max(portugal[\"G1\"]), portugal[\"G1\"])\n",
    "binary_highest_second_period_grade = binary_search(max(portugal[\"G2\"]), sorted(portugal[\"G2\"]))\n",
    "binary_highest_final_grade = binary_search(max(portugal[\"G3\"]), sorted(portugal[\"G3\"]))\n",
    "\n",
    "print(f\"Student with the highest first-period grade first occurs at index: {binary_highest_first_period_grade}\")\n",
    "print(f\"Student with the highest second-period grade first occurs at index: {binary_highest_second_period_grade}\")\n",
    "print(f\"Student with the highest final grade first occurs at index: {binary_highest_final_grade}\")"
   ]
  },
  {
   "cell_type": "markdown",
   "metadata": {},
   "source": [
    "After manually sorting each of the 3 columns, the code is ready to perform a binary search. The maximum grades for the 3 periods are located at 648, 648, and 647 respectively"
   ]
  },
  {
   "cell_type": "markdown",
   "metadata": {},
   "source": [
    "We use while loops to find the indices of the highest and lowest final grade scoreres and store them in a list to compare. First we define a search function that takes in an extra 'DataFrame\" argument. After that, we create an empty list that will house our indices once the loop is completed. Below, we print off the lists and display them in df format."
   ]
  },
  {
   "cell_type": "code",
   "execution_count": 65,
   "metadata": {},
   "outputs": [
    {
     "name": "stdout",
     "output_type": "stream",
     "text": [
      "[338, 636]\n",
      "\n",
      "\n",
      "[163, 440, 519, 563, 567, 583, 586, 597, 603, 605, 610, 626, 637, 639, 640]\n"
     ]
    },
    {
     "data": {
      "text/html": [
       "<div>\n",
       "<style scoped>\n",
       "    .dataframe tbody tr th:only-of-type {\n",
       "        vertical-align: middle;\n",
       "    }\n",
       "\n",
       "    .dataframe tbody tr th {\n",
       "        vertical-align: top;\n",
       "    }\n",
       "\n",
       "    .dataframe thead th {\n",
       "        text-align: right;\n",
       "    }\n",
       "</style>\n",
       "<table border=\"1\" class=\"dataframe\">\n",
       "  <thead>\n",
       "    <tr style=\"text-align: right;\">\n",
       "      <th></th>\n",
       "      <th>school</th>\n",
       "      <th>sex</th>\n",
       "      <th>age</th>\n",
       "      <th>address</th>\n",
       "      <th>famsize</th>\n",
       "      <th>Pstatus</th>\n",
       "      <th>Medu</th>\n",
       "      <th>Fedu</th>\n",
       "      <th>Mjob</th>\n",
       "      <th>Fjob</th>\n",
       "      <th>...</th>\n",
       "      <th>famrel</th>\n",
       "      <th>freetime</th>\n",
       "      <th>goout</th>\n",
       "      <th>Dalc</th>\n",
       "      <th>Walc</th>\n",
       "      <th>health</th>\n",
       "      <th>absences</th>\n",
       "      <th>G1</th>\n",
       "      <th>G2</th>\n",
       "      <th>G3</th>\n",
       "    </tr>\n",
       "  </thead>\n",
       "  <tbody>\n",
       "    <tr>\n",
       "      <th>163</th>\n",
       "      <td>GP</td>\n",
       "      <td>M</td>\n",
       "      <td>18</td>\n",
       "      <td>U</td>\n",
       "      <td>LE3</td>\n",
       "      <td>T</td>\n",
       "      <td>1</td>\n",
       "      <td>1</td>\n",
       "      <td>other</td>\n",
       "      <td>other</td>\n",
       "      <td>...</td>\n",
       "      <td>2</td>\n",
       "      <td>3</td>\n",
       "      <td>5</td>\n",
       "      <td>2</td>\n",
       "      <td>5</td>\n",
       "      <td>4</td>\n",
       "      <td>0</td>\n",
       "      <td>11</td>\n",
       "      <td>9</td>\n",
       "      <td>0</td>\n",
       "    </tr>\n",
       "    <tr>\n",
       "      <th>440</th>\n",
       "      <td>MS</td>\n",
       "      <td>M</td>\n",
       "      <td>16</td>\n",
       "      <td>U</td>\n",
       "      <td>GT3</td>\n",
       "      <td>T</td>\n",
       "      <td>1</td>\n",
       "      <td>1</td>\n",
       "      <td>at_home</td>\n",
       "      <td>services</td>\n",
       "      <td>...</td>\n",
       "      <td>5</td>\n",
       "      <td>4</td>\n",
       "      <td>5</td>\n",
       "      <td>4</td>\n",
       "      <td>5</td>\n",
       "      <td>3</td>\n",
       "      <td>0</td>\n",
       "      <td>7</td>\n",
       "      <td>0</td>\n",
       "      <td>0</td>\n",
       "    </tr>\n",
       "    <tr>\n",
       "      <th>519</th>\n",
       "      <td>MS</td>\n",
       "      <td>M</td>\n",
       "      <td>16</td>\n",
       "      <td>R</td>\n",
       "      <td>GT3</td>\n",
       "      <td>T</td>\n",
       "      <td>2</td>\n",
       "      <td>1</td>\n",
       "      <td>other</td>\n",
       "      <td>services</td>\n",
       "      <td>...</td>\n",
       "      <td>5</td>\n",
       "      <td>2</td>\n",
       "      <td>1</td>\n",
       "      <td>1</td>\n",
       "      <td>1</td>\n",
       "      <td>2</td>\n",
       "      <td>0</td>\n",
       "      <td>8</td>\n",
       "      <td>7</td>\n",
       "      <td>0</td>\n",
       "    </tr>\n",
       "    <tr>\n",
       "      <th>563</th>\n",
       "      <td>MS</td>\n",
       "      <td>M</td>\n",
       "      <td>17</td>\n",
       "      <td>U</td>\n",
       "      <td>GT3</td>\n",
       "      <td>T</td>\n",
       "      <td>2</td>\n",
       "      <td>2</td>\n",
       "      <td>other</td>\n",
       "      <td>other</td>\n",
       "      <td>...</td>\n",
       "      <td>1</td>\n",
       "      <td>2</td>\n",
       "      <td>1</td>\n",
       "      <td>2</td>\n",
       "      <td>3</td>\n",
       "      <td>5</td>\n",
       "      <td>0</td>\n",
       "      <td>7</td>\n",
       "      <td>0</td>\n",
       "      <td>0</td>\n",
       "    </tr>\n",
       "    <tr>\n",
       "      <th>567</th>\n",
       "      <td>MS</td>\n",
       "      <td>M</td>\n",
       "      <td>18</td>\n",
       "      <td>R</td>\n",
       "      <td>GT3</td>\n",
       "      <td>T</td>\n",
       "      <td>3</td>\n",
       "      <td>2</td>\n",
       "      <td>services</td>\n",
       "      <td>other</td>\n",
       "      <td>...</td>\n",
       "      <td>2</td>\n",
       "      <td>3</td>\n",
       "      <td>1</td>\n",
       "      <td>2</td>\n",
       "      <td>2</td>\n",
       "      <td>5</td>\n",
       "      <td>0</td>\n",
       "      <td>4</td>\n",
       "      <td>0</td>\n",
       "      <td>0</td>\n",
       "    </tr>\n",
       "    <tr>\n",
       "      <th>583</th>\n",
       "      <td>MS</td>\n",
       "      <td>F</td>\n",
       "      <td>18</td>\n",
       "      <td>R</td>\n",
       "      <td>GT3</td>\n",
       "      <td>T</td>\n",
       "      <td>2</td>\n",
       "      <td>2</td>\n",
       "      <td>other</td>\n",
       "      <td>other</td>\n",
       "      <td>...</td>\n",
       "      <td>5</td>\n",
       "      <td>5</td>\n",
       "      <td>5</td>\n",
       "      <td>1</td>\n",
       "      <td>1</td>\n",
       "      <td>3</td>\n",
       "      <td>0</td>\n",
       "      <td>8</td>\n",
       "      <td>6</td>\n",
       "      <td>0</td>\n",
       "    </tr>\n",
       "    <tr>\n",
       "      <th>586</th>\n",
       "      <td>MS</td>\n",
       "      <td>F</td>\n",
       "      <td>17</td>\n",
       "      <td>U</td>\n",
       "      <td>GT3</td>\n",
       "      <td>T</td>\n",
       "      <td>4</td>\n",
       "      <td>2</td>\n",
       "      <td>teacher</td>\n",
       "      <td>services</td>\n",
       "      <td>...</td>\n",
       "      <td>5</td>\n",
       "      <td>5</td>\n",
       "      <td>5</td>\n",
       "      <td>1</td>\n",
       "      <td>3</td>\n",
       "      <td>5</td>\n",
       "      <td>0</td>\n",
       "      <td>8</td>\n",
       "      <td>8</td>\n",
       "      <td>0</td>\n",
       "    </tr>\n",
       "    <tr>\n",
       "      <th>597</th>\n",
       "      <td>MS</td>\n",
       "      <td>F</td>\n",
       "      <td>18</td>\n",
       "      <td>R</td>\n",
       "      <td>GT3</td>\n",
       "      <td>T</td>\n",
       "      <td>2</td>\n",
       "      <td>2</td>\n",
       "      <td>at_home</td>\n",
       "      <td>other</td>\n",
       "      <td>...</td>\n",
       "      <td>4</td>\n",
       "      <td>3</td>\n",
       "      <td>3</td>\n",
       "      <td>1</td>\n",
       "      <td>1</td>\n",
       "      <td>4</td>\n",
       "      <td>0</td>\n",
       "      <td>9</td>\n",
       "      <td>0</td>\n",
       "      <td>0</td>\n",
       "    </tr>\n",
       "    <tr>\n",
       "      <th>603</th>\n",
       "      <td>MS</td>\n",
       "      <td>F</td>\n",
       "      <td>18</td>\n",
       "      <td>R</td>\n",
       "      <td>LE3</td>\n",
       "      <td>A</td>\n",
       "      <td>4</td>\n",
       "      <td>2</td>\n",
       "      <td>teacher</td>\n",
       "      <td>other</td>\n",
       "      <td>...</td>\n",
       "      <td>5</td>\n",
       "      <td>3</td>\n",
       "      <td>1</td>\n",
       "      <td>1</td>\n",
       "      <td>1</td>\n",
       "      <td>5</td>\n",
       "      <td>0</td>\n",
       "      <td>5</td>\n",
       "      <td>0</td>\n",
       "      <td>0</td>\n",
       "    </tr>\n",
       "    <tr>\n",
       "      <th>605</th>\n",
       "      <td>MS</td>\n",
       "      <td>F</td>\n",
       "      <td>19</td>\n",
       "      <td>U</td>\n",
       "      <td>GT3</td>\n",
       "      <td>T</td>\n",
       "      <td>1</td>\n",
       "      <td>1</td>\n",
       "      <td>at_home</td>\n",
       "      <td>services</td>\n",
       "      <td>...</td>\n",
       "      <td>5</td>\n",
       "      <td>5</td>\n",
       "      <td>5</td>\n",
       "      <td>2</td>\n",
       "      <td>3</td>\n",
       "      <td>2</td>\n",
       "      <td>0</td>\n",
       "      <td>5</td>\n",
       "      <td>0</td>\n",
       "      <td>0</td>\n",
       "    </tr>\n",
       "    <tr>\n",
       "      <th>610</th>\n",
       "      <td>MS</td>\n",
       "      <td>F</td>\n",
       "      <td>19</td>\n",
       "      <td>R</td>\n",
       "      <td>GT3</td>\n",
       "      <td>A</td>\n",
       "      <td>1</td>\n",
       "      <td>1</td>\n",
       "      <td>at_home</td>\n",
       "      <td>at_home</td>\n",
       "      <td>...</td>\n",
       "      <td>3</td>\n",
       "      <td>5</td>\n",
       "      <td>4</td>\n",
       "      <td>1</td>\n",
       "      <td>4</td>\n",
       "      <td>1</td>\n",
       "      <td>0</td>\n",
       "      <td>8</td>\n",
       "      <td>0</td>\n",
       "      <td>0</td>\n",
       "    </tr>\n",
       "    <tr>\n",
       "      <th>626</th>\n",
       "      <td>MS</td>\n",
       "      <td>F</td>\n",
       "      <td>18</td>\n",
       "      <td>R</td>\n",
       "      <td>GT3</td>\n",
       "      <td>T</td>\n",
       "      <td>4</td>\n",
       "      <td>4</td>\n",
       "      <td>other</td>\n",
       "      <td>teacher</td>\n",
       "      <td>...</td>\n",
       "      <td>3</td>\n",
       "      <td>2</td>\n",
       "      <td>2</td>\n",
       "      <td>4</td>\n",
       "      <td>2</td>\n",
       "      <td>5</td>\n",
       "      <td>0</td>\n",
       "      <td>7</td>\n",
       "      <td>5</td>\n",
       "      <td>0</td>\n",
       "    </tr>\n",
       "    <tr>\n",
       "      <th>637</th>\n",
       "      <td>MS</td>\n",
       "      <td>M</td>\n",
       "      <td>18</td>\n",
       "      <td>R</td>\n",
       "      <td>GT3</td>\n",
       "      <td>T</td>\n",
       "      <td>2</td>\n",
       "      <td>1</td>\n",
       "      <td>other</td>\n",
       "      <td>other</td>\n",
       "      <td>...</td>\n",
       "      <td>4</td>\n",
       "      <td>4</td>\n",
       "      <td>3</td>\n",
       "      <td>1</td>\n",
       "      <td>3</td>\n",
       "      <td>5</td>\n",
       "      <td>0</td>\n",
       "      <td>7</td>\n",
       "      <td>7</td>\n",
       "      <td>0</td>\n",
       "    </tr>\n",
       "    <tr>\n",
       "      <th>639</th>\n",
       "      <td>MS</td>\n",
       "      <td>M</td>\n",
       "      <td>19</td>\n",
       "      <td>R</td>\n",
       "      <td>GT3</td>\n",
       "      <td>T</td>\n",
       "      <td>1</td>\n",
       "      <td>1</td>\n",
       "      <td>other</td>\n",
       "      <td>services</td>\n",
       "      <td>...</td>\n",
       "      <td>4</td>\n",
       "      <td>3</td>\n",
       "      <td>2</td>\n",
       "      <td>1</td>\n",
       "      <td>3</td>\n",
       "      <td>5</td>\n",
       "      <td>0</td>\n",
       "      <td>5</td>\n",
       "      <td>8</td>\n",
       "      <td>0</td>\n",
       "    </tr>\n",
       "    <tr>\n",
       "      <th>640</th>\n",
       "      <td>MS</td>\n",
       "      <td>M</td>\n",
       "      <td>18</td>\n",
       "      <td>R</td>\n",
       "      <td>GT3</td>\n",
       "      <td>T</td>\n",
       "      <td>4</td>\n",
       "      <td>2</td>\n",
       "      <td>other</td>\n",
       "      <td>other</td>\n",
       "      <td>...</td>\n",
       "      <td>5</td>\n",
       "      <td>4</td>\n",
       "      <td>3</td>\n",
       "      <td>4</td>\n",
       "      <td>3</td>\n",
       "      <td>3</td>\n",
       "      <td>0</td>\n",
       "      <td>7</td>\n",
       "      <td>7</td>\n",
       "      <td>0</td>\n",
       "    </tr>\n",
       "  </tbody>\n",
       "</table>\n",
       "<p>15 rows × 33 columns</p>\n",
       "</div>"
      ],
      "text/plain": [
       "    school sex  age address famsize Pstatus  Medu  Fedu      Mjob      Fjob  \\\n",
       "163     GP   M   18       U     LE3       T     1     1     other     other   \n",
       "440     MS   M   16       U     GT3       T     1     1   at_home  services   \n",
       "519     MS   M   16       R     GT3       T     2     1     other  services   \n",
       "563     MS   M   17       U     GT3       T     2     2     other     other   \n",
       "567     MS   M   18       R     GT3       T     3     2  services     other   \n",
       "583     MS   F   18       R     GT3       T     2     2     other     other   \n",
       "586     MS   F   17       U     GT3       T     4     2   teacher  services   \n",
       "597     MS   F   18       R     GT3       T     2     2   at_home     other   \n",
       "603     MS   F   18       R     LE3       A     4     2   teacher     other   \n",
       "605     MS   F   19       U     GT3       T     1     1   at_home  services   \n",
       "610     MS   F   19       R     GT3       A     1     1   at_home   at_home   \n",
       "626     MS   F   18       R     GT3       T     4     4     other   teacher   \n",
       "637     MS   M   18       R     GT3       T     2     1     other     other   \n",
       "639     MS   M   19       R     GT3       T     1     1     other  services   \n",
       "640     MS   M   18       R     GT3       T     4     2     other     other   \n",
       "\n",
       "     ... famrel freetime  goout  Dalc  Walc health absences  G1 G2 G3  \n",
       "163  ...      2        3      5     2     5      4        0  11  9  0  \n",
       "440  ...      5        4      5     4     5      3        0   7  0  0  \n",
       "519  ...      5        2      1     1     1      2        0   8  7  0  \n",
       "563  ...      1        2      1     2     3      5        0   7  0  0  \n",
       "567  ...      2        3      1     2     2      5        0   4  0  0  \n",
       "583  ...      5        5      5     1     1      3        0   8  6  0  \n",
       "586  ...      5        5      5     1     3      5        0   8  8  0  \n",
       "597  ...      4        3      3     1     1      4        0   9  0  0  \n",
       "603  ...      5        3      1     1     1      5        0   5  0  0  \n",
       "605  ...      5        5      5     2     3      2        0   5  0  0  \n",
       "610  ...      3        5      4     1     4      1        0   8  0  0  \n",
       "626  ...      3        2      2     4     2      5        0   7  5  0  \n",
       "637  ...      4        4      3     1     3      5        0   7  7  0  \n",
       "639  ...      4        3      2     1     3      5        0   5  8  0  \n",
       "640  ...      5        4      3     4     3      3        0   7  7  0  \n",
       "\n",
       "[15 rows x 33 columns]"
      ]
     },
     "execution_count": 65,
     "metadata": {},
     "output_type": "execute_result"
    }
   ],
   "source": [
    "def find_all_indices(dataframe, lyst, target):\n",
    "    indices = []  # This will store the indices of the students who match the criteria\n",
    "    position = 0  # Starting position in the dataframe\n",
    "    while position < len(dataframe):\n",
    "        if dataframe.iloc[position][lyst] == target:  # Check if the student has the specific feature\n",
    "            indices.append(position)  # Add the index of the student to the list\n",
    "        position += 1  # Move to the next position\n",
    "    return indices\n",
    "\n",
    "# For example, to find students with a final grade (G3) of 18:\n",
    "Highest_Grade_indices = find_all_indices(portugal, \"G3\", max(portugal[\"G3\"]))\n",
    "Lowest_Grade_indices = find_all_indices(portugal, \"G3\", min(portugal[\"G3\"]))\n",
    "print(Highest_Grade_indices)\n",
    "print(\"\\n\")\n",
    "print(Lowest_Grade_indices)\n",
    "\n",
    "\n",
    "portugal.iloc[Highest_Grade_indices]\n",
    "portugal.iloc[Lowest_Grade_indices]"
   ]
  },
  {
   "cell_type": "markdown",
   "metadata": {},
   "source": [
    "Below, we calculate the effeciency of the above search algorithm and will compare it with the previous algorithms later in the project.\n",
    "We use the time library to find the start and end time of the code, which we can subtract to find the total runtime (effeciency) of the algorithm"
   ]
  },
  {
   "cell_type": "markdown",
   "metadata": {},
   "source": [
    "## Sorting Algorithms"
   ]
  },
  {
   "cell_type": "markdown",
   "metadata": {},
   "source": [
    "Our next step in the project is to use sorting different sorting algorithms to sort our portugal class data set based on specific column choices.\n",
    "For the puprose of our studies, we will carry out \"SelectionSort\" and \"BubbleSort\" on the variables of interest. \n",
    "For the variables, we will maintain consistency with both sorts and use the following columns from our data set:\n",
    "- Age\n",
    "- Absences\n",
    "- G3 (final grade)\n",
    "\n",
    "\n",
    "We maintain similar testing columns for both sorts in order to accurately compare effeciency at a later step"
   ]
  },
  {
   "cell_type": "code",
   "execution_count": 66,
   "metadata": {},
   "outputs": [],
   "source": [
    "def SelectionSort(lyst):\n",
    "    i = 0\n",
    "    while i < len(lyst) - 1:\n",
    "        minIndex = i\n",
    "        j = i + 1\n",
    "        while j < len(lyst):  # Compare j with len(lyst), not lyst[minIndex]\n",
    "            if lyst[j] < lyst[minIndex]:\n",
    "                minIndex = j\n",
    "            j += 1  # Increment j inside the inner loop\n",
    "        if minIndex != i:\n",
    "            lyst[minIndex], lyst[i] = lyst[i], lyst[minIndex]  # Pythonic swap\n",
    "        i += 1  # Increment i inside the outer loop"
   ]
  },
  {
   "cell_type": "code",
   "execution_count": 82,
   "metadata": {},
   "outputs": [
    {
     "name": "stdout",
     "output_type": "stream",
     "text": [
      "  school sex  age address famsize Pstatus  Medu  Fedu     Mjob      Fjob  ...  \\\n",
      "0     GP   F   15       U     GT3       A     4     4  at_home   teacher  ...   \n",
      "1     GP   F   15       U     GT3       T     1     1  at_home     other  ...   \n",
      "2     GP   F   15       U     LE3       T     1     1  at_home     other  ...   \n",
      "3     GP   F   15       U     GT3       T     4     2   health  services  ...   \n",
      "4     GP   F   15       U     GT3       T     3     3    other     other  ...   \n",
      "\n",
      "  famrel freetime  goout  Dalc  Walc health absences  G1  G2 G3  \n",
      "0      4        3      4     1     1      3        0   0  11  0  \n",
      "1      5        3      3     1     1      3        0   9  11  0  \n",
      "2      4        3      2     2     3      3        0  12  13  0  \n",
      "3      3        2      2     1     1      5        0  14  14  0  \n",
      "4      4        3      2     1     2      5        0  11  13  0  \n",
      "\n",
      "[5 rows x 33 columns]\n"
     ]
    }
   ],
   "source": [
    "age_sorted = SelectionSort(portugal['age']) # sorting by age\n",
    "final_sorted = SelectionSort(portugal['G3']) # sorting by final grade\n",
    "num_school_absences_sorted = SelectionSort(portugal['absences']) # sorting by number of absences\n",
    "\n",
    "#print(portugal[[\"age\",\"G3\", \"absences\"]])\n",
    "print(portugal.head())"
   ]
  },
  {
   "cell_type": "markdown",
   "metadata": {},
   "source": [
    "Based on the first 6 columns of the sorted df, it appears that the columns ('age', 'G3', 'absences') have been sorted"
   ]
  },
  {
   "cell_type": "code",
   "execution_count": 68,
   "metadata": {},
   "outputs": [],
   "source": [
    "def bubbleSort(lyst): # defining the bubble sort algorithm, which takes in a list/column\n",
    "    \"\"\"Sorts the items in lyst in ascending order.\"\"\"\n",
    "    n = len(lyst)\n",
    "    while n > 1:  # Do n - 1 bubbles\n",
    "        i = 1  # Start each bubble\n",
    "        while i < n:\n",
    "            if lyst[i] < lyst[i - 1]:  # Exchange if needed\n",
    "                # Directly swap the elements\n",
    "                lyst[i], lyst[i - 1] = lyst[i - 1], lyst[i]\n",
    "            i += 1\n",
    "        n -= 1"
   ]
  },
  {
   "cell_type": "code",
   "execution_count": 69,
   "metadata": {},
   "outputs": [
    {
     "data": {
      "text/html": [
       "<div>\n",
       "<style scoped>\n",
       "    .dataframe tbody tr th:only-of-type {\n",
       "        vertical-align: middle;\n",
       "    }\n",
       "\n",
       "    .dataframe tbody tr th {\n",
       "        vertical-align: top;\n",
       "    }\n",
       "\n",
       "    .dataframe thead th {\n",
       "        text-align: right;\n",
       "    }\n",
       "</style>\n",
       "<table border=\"1\" class=\"dataframe\">\n",
       "  <thead>\n",
       "    <tr style=\"text-align: right;\">\n",
       "      <th></th>\n",
       "      <th>age</th>\n",
       "      <th>G3</th>\n",
       "      <th>absences</th>\n",
       "    </tr>\n",
       "  </thead>\n",
       "  <tbody>\n",
       "    <tr>\n",
       "      <th>0</th>\n",
       "      <td>15</td>\n",
       "      <td>0</td>\n",
       "      <td>0</td>\n",
       "    </tr>\n",
       "    <tr>\n",
       "      <th>1</th>\n",
       "      <td>15</td>\n",
       "      <td>0</td>\n",
       "      <td>0</td>\n",
       "    </tr>\n",
       "    <tr>\n",
       "      <th>2</th>\n",
       "      <td>15</td>\n",
       "      <td>0</td>\n",
       "      <td>0</td>\n",
       "    </tr>\n",
       "    <tr>\n",
       "      <th>3</th>\n",
       "      <td>15</td>\n",
       "      <td>0</td>\n",
       "      <td>0</td>\n",
       "    </tr>\n",
       "    <tr>\n",
       "      <th>4</th>\n",
       "      <td>15</td>\n",
       "      <td>0</td>\n",
       "      <td>0</td>\n",
       "    </tr>\n",
       "    <tr>\n",
       "      <th>...</th>\n",
       "      <td>...</td>\n",
       "      <td>...</td>\n",
       "      <td>...</td>\n",
       "    </tr>\n",
       "    <tr>\n",
       "      <th>644</th>\n",
       "      <td>20</td>\n",
       "      <td>18</td>\n",
       "      <td>22</td>\n",
       "    </tr>\n",
       "    <tr>\n",
       "      <th>645</th>\n",
       "      <td>20</td>\n",
       "      <td>18</td>\n",
       "      <td>24</td>\n",
       "    </tr>\n",
       "    <tr>\n",
       "      <th>646</th>\n",
       "      <td>21</td>\n",
       "      <td>18</td>\n",
       "      <td>26</td>\n",
       "    </tr>\n",
       "    <tr>\n",
       "      <th>647</th>\n",
       "      <td>21</td>\n",
       "      <td>19</td>\n",
       "      <td>30</td>\n",
       "    </tr>\n",
       "    <tr>\n",
       "      <th>648</th>\n",
       "      <td>22</td>\n",
       "      <td>19</td>\n",
       "      <td>32</td>\n",
       "    </tr>\n",
       "  </tbody>\n",
       "</table>\n",
       "<p>649 rows × 3 columns</p>\n",
       "</div>"
      ],
      "text/plain": [
       "     age  G3  absences\n",
       "0     15   0         0\n",
       "1     15   0         0\n",
       "2     15   0         0\n",
       "3     15   0         0\n",
       "4     15   0         0\n",
       "..   ...  ..       ...\n",
       "644   20  18        22\n",
       "645   20  18        24\n",
       "646   21  18        26\n",
       "647   21  19        30\n",
       "648   22  19        32\n",
       "\n",
       "[649 rows x 3 columns]"
      ]
     },
     "metadata": {},
     "output_type": "display_data"
    }
   ],
   "source": [
    "age_bubble_sorted = bubbleSort(portugal['age']) # sorting by age\n",
    "final_grade_bubble_sorted = bubbleSort(portugal['G3']) # sorting by final grade\n",
    "num_school_absences_bubble_sorted = bubbleSort(portugal['absences']) # sorting by absences\n",
    "\n",
    "display(portugal[[\"age\",\"G3\", \"absences\"]])"
   ]
  },
  {
   "cell_type": "markdown",
   "metadata": {},
   "source": [
    "We now perform sorting using common python libraries, Pandas and NumPy. With these sorting techniques we can compare effeciency with those of sorting algorithms"
   ]
  },
  {
   "cell_type": "code",
   "execution_count": 70,
   "metadata": {},
   "outputs": [],
   "source": [
    "# sorting with pandas library \n",
    "columns_to_sort = ['age', 'absences', 'G3'] # assigning columns of interest to a list\n",
    "pd_sorted = portugal.sort_values(by=\"absences\") # sorting the values by specific variable absence\n",
    "pd_sorted \n",
    "\n",
    "# Sorting with numpy \n",
    "port_copy = portugal.copy()\n",
    "age_array = port_copy['absences'].values # creating an array from column absences\n",
    "sorted_age_array = np.sort(age_array) # using np.sort to sort the created array\n",
    "port_copy['absences'] = sorted_age_array # assigning back to the column\n",
    "\n",
    "# Built-in Sort \n",
    "#built_in_sorted = sorted(port[\"absences\"]) \n",
    "#built_in_sorted"
   ]
  },
  {
   "cell_type": "markdown",
   "metadata": {},
   "source": [
    "## Searching Effeciency"
   ]
  },
  {
   "cell_type": "markdown",
   "metadata": {},
   "source": [
    "To measure the effeciency of the searching algorithms against other options, we use the baselines (Pandas/NumPy) functions in order to compare with our custom algorithms. For the purpose of consistency, we will use the absences column as our testing variable. Also, we will use the time library to calculate the code execution time for each of the 4 methods below. First we will test the search of pandas using if-else statements. After, we check the time of numpy and finally, we will calculate the effeciences of our custom-search algorithms."
   ]
  },
  {
   "cell_type": "code",
   "execution_count": 71,
   "metadata": {},
   "outputs": [
    {
     "name": "stdout",
     "output_type": "stream",
     "text": [
      "Duration of built-in python search: 0.0009942054748535156 seconds\n",
      "Duration of pandas library search: 0.0020020008087158203 seconds\n",
      "Duration of linear search: 0.003083944320678711 seconds\n",
      "Duration of binary search: 0.0 seconds\n"
     ]
    }
   ],
   "source": [
    "start_time = time.time()\n",
    "target = max(port_copy[\"absences\"])\n",
    "absences_list = port_copy['absences'].tolist()\n",
    "if target in absences_list:\n",
    "    position = absences_list.index(target)\n",
    "end_time = time.time()\n",
    "built_in_duration = end_time - start_time\n",
    "\n",
    "\n",
    "target = max(port_copy['absences'])  # The value you are searching for\n",
    "# Returns a Series of True/False, where True indicates the target is found\n",
    "matches = port_copy['absences'] == target\n",
    "if matches.any():  # Check if there are any True values\n",
    "    position = matches.idxmax()  # Get the index of the first True value\n",
    "end_time = time.time()\n",
    "pandas_search_duration = end_time - start_time\n",
    "\n",
    "\n",
    "start_time = time.time()\n",
    "linear_result = LinearSearch(target, portugal['absences'])\n",
    "LinearSearch_duration = time.time() - start_time\n",
    "\n",
    "\n",
    "\n",
    "start_time = time.time()\n",
    "binary_result = binarySearch(target, portugal['absences'])\n",
    "BinarySearch_duration = time.time() - start_time\n",
    "\n",
    "\n",
    "\n",
    "print(f\"Duration of built-in python search: {built_in_duration} seconds\")\n",
    "print(f\"Duration of pandas library search: {pandas_search_duration} seconds\")\n",
    "print(f\"Duration of linear search: {LinearSearch_duration} seconds\")\n",
    "print(f\"Duration of binary search: {BinarySearch_duration} seconds\")"
   ]
  },
  {
   "cell_type": "markdown",
   "metadata": {},
   "source": [
    "## Sorting Effeciency"
   ]
  },
  {
   "cell_type": "markdown",
   "metadata": {},
   "source": [
    "To measure the effeciency of the Sorting algorithms against other options, we use the baselines (Pandas/NumPy) functions in order to compare with our custom algorithms. For the purpose of consistency, we will use the absences column as our testing variable. Also, we will use the time library to calculate the code execution time for each of the 4 methods below. First we will test the sorting speed of pandas using .sort_values. After, we check the time of numpy using np.sort() and finally, we will calculate the effeciences of our custom-search algorithms."
   ]
  },
  {
   "cell_type": "code",
   "execution_count": 72,
   "metadata": {},
   "outputs": [
    {
     "name": "stdout",
     "output_type": "stream",
     "text": [
      "Pandas sorting took: 0.0009942054748535156 seconds\n",
      "NumPy sorting took: 0.001001119613647461 seconds\n",
      "Selection sorting took: 1.0174264907836914 seconds\n",
      "Bubble sorting took: 0.8623149394989014 seconds\n"
     ]
    }
   ],
   "source": [
    "# Measure Pandas sorting\n",
    "start_time = time.time()\n",
    "pd_sorted = portugal.sort_values(by='absences')\n",
    "pandas_duration = time.time() - start_time\n",
    "\n",
    "# Measure NumPy sorting\n",
    "start_time = time.time()\n",
    "sorted_array = np.sort(port_copy['absences'].values)\n",
    "numpy_duration = time.time() - start_time\n",
    "\n",
    "\n",
    "# Selectionsort \n",
    "start_time = time.time()\n",
    "result = SelectionSort(portugal['absences'])\n",
    "selectionsort_duration = time.time() - start_time\n",
    "\n",
    "# Bubblesort\n",
    "start_time = time.time()\n",
    "result_1 = bubbleSort(portugal['absences'])\n",
    "bubbleSort_duration = time.time() - start_time\n",
    "\n",
    "# Print out the duration of each sorting method\n",
    "print(f\"Pandas sorting took: {pandas_duration} seconds\")\n",
    "print(f\"NumPy sorting took: {numpy_duration} seconds\")\n",
    "print(f\"Selection sorting took: {selectionsort_duration} seconds\")\n",
    "print(f\"Bubble sorting took: {bubbleSort_duration} seconds\")"
   ]
  },
  {
   "cell_type": "markdown",
   "metadata": {},
   "source": [
    "## Finding Correlations"
   ]
  },
  {
   "cell_type": "markdown",
   "metadata": {},
   "source": [
    "We now use algorithmic techniques to find correlations and significant relationships between specific attributes in our dataset.\n",
    "Mainly, the important topics we are interested in:\n",
    "- effect of study time on student's grades\n",
    "- effect of travel time on student's grades\n",
    "- effect of absence on grades\n",
    "- effect of travel time on absence\n",
    "- effect of current health status on grades"
   ]
  },
  {
   "cell_type": "markdown",
   "metadata": {},
   "source": [
    "We import pearsonr from scipy, as it allows to use the pearson coeffecient to calcualte the direct correlation between two attributes in out dataset. This is distinct from the pandas, .corr() function which gives us all related correlations within our set. We will use both methods to showcase the relationships."
   ]
  },
  {
   "cell_type": "code",
   "execution_count": 73,
   "metadata": {},
   "outputs": [],
   "source": [
    "from scipy.stats import pearsonr\n",
    "\n",
    "study_vs_grade, _ = pearsonr(portugal['G3'], portugal['studytime'])\n",
    "travel_vs_grade, _ = pearsonr(portugal['G3'], portugal['traveltime'])\n",
    "absence_vs_grade, _ = pearsonr(portugal['G3'], portugal['absences'])\n",
    "travel_vs_absence, _ = pearsonr(portugal['traveltime'], portugal['absences'])"
   ]
  },
  {
   "cell_type": "code",
   "execution_count": 74,
   "metadata": {},
   "outputs": [
    {
     "name": "stdout",
     "output_type": "stream",
     "text": [
      "                      Pair  Correlation\n",
      "0         G3 vs Study Time        -0.07\n",
      "1        G3 vs Travel Time         0.21\n",
      "2           G3 vs Absences         0.79\n",
      "3  Travel Time vs Absences         0.21\n"
     ]
    }
   ],
   "source": [
    "# Create a dictionary with your correlation results\n",
    "data = {\n",
    "    'Pair': ['G3 vs Study Time', 'G3 vs Travel Time', 'G3 vs Absences', 'Travel Time vs Absences'],\n",
    "    'Correlation': [study_vs_grade, travel_vs_grade, absence_vs_grade, travel_vs_absence]\n",
    "}\n",
    "\n",
    "# Convert the dictionary into a pandas DataFrame\n",
    "correlation_df = pd.DataFrame(data)\n",
    "\n",
    "# Format the correlation values to two decimal places\n",
    "correlation_df['Correlation'] = correlation_df['Correlation'].round(2)\n",
    "\n",
    "# Print the resulting DataFrame\n",
    "print(correlation_df)"
   ]
  },
  {
   "cell_type": "markdown",
   "metadata": {},
   "source": [
    "Our results were surprising. The correlation coeffeicnets above showed study time was inversley related to final grade score, which indicates the studnets did not necessarily perform better when studying more. In addition, travle time for students positively correlated with final score, so students with higher travel times were correlated with higher grades, although the magnitude of correlaiton was somewhat small. A major find was that higher absneces for studnets was associatted with higer perormacne on the final grade. Finally, travel time to school was linked to higher class absences for students. "
   ]
  },
  {
   "cell_type": "markdown",
   "metadata": {},
   "source": [
    "## Correlation Matrix"
   ]
  },
  {
   "cell_type": "markdown",
   "metadata": {},
   "source": [
    "Below we generate a correlation matrix using pandas. In order to insure the we are generating correlations for integer type variables, we subset the original dataframe to house only the columns with values of int type. After seperating the int columns into a seperate df, we can generate the correlation matrix."
   ]
  },
  {
   "cell_type": "code",
   "execution_count": 75,
   "metadata": {},
   "outputs": [
    {
     "name": "stdout",
     "output_type": "stream",
     "text": [
      "                 age      Medu      Fedu  traveltime  studytime  failures  \\\n",
      "age         1.000000 -0.209444 -0.183246    0.217244  -0.092413  0.102146   \n",
      "Medu       -0.209444  1.000000  0.647477   -0.265079   0.097006 -0.172210   \n",
      "Fedu       -0.183246  0.647477  1.000000   -0.208288   0.050400 -0.165915   \n",
      "traveltime  0.217244 -0.265079 -0.208288    1.000000  -0.063154  0.097730   \n",
      "studytime  -0.092413  0.097006  0.050400   -0.063154   1.000000 -0.147441   \n",
      "failures    0.102146 -0.172210 -0.165915    0.097730  -0.147441  1.000000   \n",
      "famrel     -0.039117  0.024421  0.020256   -0.009521  -0.004127 -0.062645   \n",
      "freetime   -0.013347 -0.019686  0.006841    0.000937  -0.068829  0.108995   \n",
      "goout       0.057853  0.009536  0.027690    0.057454  -0.075442  0.045078   \n",
      "Dalc        0.047100 -0.007018  0.000061    0.092824  -0.137585  0.105949   \n",
      "Walc        0.036053 -0.019766  0.038445    0.057007  -0.214925  0.082266   \n",
      "health     -0.057804  0.004614  0.044910   -0.048261  -0.056433  0.035588   \n",
      "absences    0.895522 -0.150143 -0.153046    0.213493  -0.083112  0.077935   \n",
      "G1         -0.202472  0.260472  0.217501   -0.154120   0.260875 -0.384210   \n",
      "G2         -0.145817  0.264035  0.225139   -0.154489   0.240498 -0.385782   \n",
      "G3          0.887562 -0.213295 -0.184263    0.206523  -0.074993  0.110744   \n",
      "\n",
      "              famrel  freetime     goout      Dalc      Walc    health  \\\n",
      "age        -0.039117 -0.013347  0.057853  0.047100  0.036053 -0.057804   \n",
      "Medu        0.024421 -0.019686  0.009536 -0.007018 -0.019766  0.004614   \n",
      "Fedu        0.020256  0.006841  0.027690  0.000061  0.038445  0.044910   \n",
      "traveltime -0.009521  0.000937  0.057454  0.092824  0.057007 -0.048261   \n",
      "studytime  -0.004127 -0.068829 -0.075442 -0.137585 -0.214925 -0.056433   \n",
      "failures   -0.062645  0.108995  0.045078  0.105949  0.082266  0.035588   \n",
      "famrel      1.000000  0.129216  0.089707 -0.075767 -0.093511  0.109559   \n",
      "freetime    0.129216  1.000000  0.346352  0.109904  0.120244  0.084526   \n",
      "goout       0.089707  0.346352  1.000000  0.245126  0.388680 -0.015741   \n",
      "Dalc       -0.075767  0.109904  0.245126  1.000000  0.616561  0.059067   \n",
      "Walc       -0.093511  0.120244  0.388680  0.616561  1.000000  0.114988   \n",
      "health      0.109559  0.084526 -0.015741  0.059067  0.114988  1.000000   \n",
      "absences   -0.031079  0.014819  0.020324  0.048545  0.023554 -0.055757   \n",
      "G1          0.048795 -0.094497 -0.074053 -0.195171 -0.155649 -0.051647   \n",
      "G2          0.089588 -0.106678 -0.079469 -0.189480 -0.164852 -0.082179   \n",
      "G3         -0.035101 -0.000456  0.081367  0.076773  0.068471 -0.050630   \n",
      "\n",
      "            absences        G1        G2        G3  \n",
      "age         0.895522 -0.202472 -0.145817  0.887562  \n",
      "Medu       -0.150143  0.260472  0.264035 -0.213295  \n",
      "Fedu       -0.153046  0.217501  0.225139 -0.184263  \n",
      "traveltime  0.213493 -0.154120 -0.154489  0.206523  \n",
      "studytime  -0.083112  0.260875  0.240498 -0.074993  \n",
      "failures    0.077935 -0.384210 -0.385782  0.110744  \n",
      "famrel     -0.031079  0.048795  0.089588 -0.035101  \n",
      "freetime    0.014819 -0.094497 -0.106678 -0.000456  \n",
      "goout       0.020324 -0.074053 -0.079469  0.081367  \n",
      "Dalc        0.048545 -0.195171 -0.189480  0.076773  \n",
      "Walc        0.023554 -0.155649 -0.164852  0.068471  \n",
      "health     -0.055757 -0.051647 -0.082179 -0.050630  \n",
      "absences    1.000000 -0.206503 -0.145402  0.793517  \n",
      "G1         -0.206503  1.000000  0.864982 -0.190471  \n",
      "G2         -0.145402  0.864982  1.000000 -0.171031  \n",
      "G3          0.793517 -0.190471 -0.171031  1.000000  \n"
     ]
    }
   ],
   "source": [
    "#print(port.dtypes)\n",
    "\n",
    "integer_columns = portugal.select_dtypes(include=['int64']).columns # seperating the int_type columns into a seperate df\n",
    "\n",
    "# Display the names of these columns\n",
    "integer_data = portugal[integer_columns]  # creating the new df\n",
    "\n",
    "correlation_matrix = integer_data.corr()   # implementing pandas' .corr() method to create the matrix\n",
    "\n",
    "print(correlation_matrix)"
   ]
  },
  {
   "cell_type": "code",
   "execution_count": 76,
   "metadata": {},
   "outputs": [
    {
     "name": "stdout",
     "output_type": "stream",
     "text": [
      "age           0.887562\n",
      "Medu         -0.213295\n",
      "Fedu         -0.184263\n",
      "traveltime    0.206523\n",
      "studytime    -0.074993\n",
      "failures      0.110744\n",
      "famrel       -0.035101\n",
      "freetime     -0.000456\n",
      "goout         0.081367\n",
      "Dalc          0.076773\n",
      "Walc          0.068471\n",
      "health       -0.050630\n",
      "absences      0.793517\n",
      "G1           -0.190471\n",
      "G2           -0.171031\n",
      "G3            1.000000\n",
      "Name: G3, dtype: float64\n"
     ]
    }
   ],
   "source": [
    "target_var = \"G3\"  # Replace 'G3' with your target variable\n",
    "integer_columns = portugal.select_dtypes(include=['int64']).columns\n",
    "# Calculate the pairwise correlation of all columns\n",
    "correlation_matrix = portugal[integer_columns].corr()\n",
    "\n",
    "# Extract the correlations between the target variable and all other variables\n",
    "target_correlations = correlation_matrix[target_var]\n",
    "\n",
    "# Display the correlation values\n",
    "print(target_correlations)\n"
   ]
  },
  {
   "cell_type": "markdown",
   "metadata": {},
   "source": [
    "## Descriptive Statistics"
   ]
  },
  {
   "cell_type": "markdown",
   "metadata": {},
   "source": [
    "In order to understand the properties of the data set, we will find the summary statistics of the updated int_type dataframe. We calculate the mean, median, and mode of each column. The values will give an idea of the distribution of values wiithin each of the portugese class columns."
   ]
  },
  {
   "cell_type": "code",
   "execution_count": 77,
   "metadata": {},
   "outputs": [
    {
     "name": "stdout",
     "output_type": "stream",
     "text": [
      "                 Mean  Median  Mode\n",
      "age         16.744222    17.0    17\n",
      "Medu         2.514638     2.0     2\n",
      "Fedu         2.306626     2.0     2\n",
      "traveltime   1.568567     1.0     1\n",
      "studytime    1.930663     2.0     2\n",
      "failures     0.221880     0.0     0\n",
      "famrel       3.930663     4.0     4\n",
      "freetime     3.180277     3.0     3\n",
      "goout        3.184900     3.0     3\n",
      "Dalc         1.502311     1.0     1\n",
      "Walc         2.280431     2.0     1\n",
      "health       3.536210     4.0     5\n",
      "absences     3.659476     2.0     0\n",
      "G1          11.399076    11.0    10\n",
      "G2          11.570108    11.0    11\n",
      "G3          11.906009    12.0    11\n"
     ]
    }
   ],
   "source": [
    "means = integer_data.mean()\n",
    "medians = integer_data.median()\n",
    "\n",
    "# Modes can return multiple values per column so we take the first one\n",
    "# This creates a series with the first mode of each column or NaN if none exists\n",
    "modes = integer_data.mode().iloc[0] \n",
    "\n",
    "# Combine the statistics into a new DataFrame\n",
    "stats_df = pd.DataFrame({\n",
    "    'Mean': means,\n",
    "    'Median': medians,\n",
    "    'Mode': modes\n",
    "})\n",
    "\n",
    "print(stats_df)"
   ]
  },
  {
   "cell_type": "markdown",
   "metadata": {},
   "source": [
    "Based on the summary statistics above, we can conclude a few key discoveries:\n",
    "- the average age in all of the portugese class sections is 16.74\n",
    "- Student commut times on average fall between the firt two categories, meaning they are usually around under 30 min\n",
    "- Based on the mean, student weekly study time falls between the first two categories. In other words, study time falls between 2 to 5 hours on average\n",
    "- Average final grade for students in the portugese class is 11"
   ]
  },
  {
   "cell_type": "markdown",
   "metadata": {},
   "source": [
    "## Analyzing Correlation"
   ]
  },
  {
   "cell_type": "markdown",
   "metadata": {},
   "source": [
    "In order to draw conclusions and make predicictions for futre, we will analyze our algorithms above using visualizations. Matplotlib and Seaborn will be used to aid in the visualization process.\n",
    "Both libraries allow for correlation and trend analysis using different plots."
   ]
  },
  {
   "cell_type": "code",
   "execution_count": 78,
   "metadata": {},
   "outputs": [],
   "source": [
    "import seaborn as sns\n",
    "import matplotlib.pyplot as plt"
   ]
  },
  {
   "cell_type": "markdown",
   "metadata": {},
   "source": [
    "We use seaborn box plots to compare the distributions between the study time and travel time on the final grades. The plots showcase the range of grades pertaining to each of the 4 time-based categories. We found this plot more comprehensive than a regular bar chart, as it showcased the ranges and median for each time group. "
   ]
  },
  {
   "cell_type": "code",
   "execution_count": 79,
   "metadata": {},
   "outputs": [
    {
     "data": {
      "image/png": "[encoded data removed]",
      "text/plain": [
       "<Figure size 1000x500 with 2 Axes>"
      ]
     },
     "metadata": {},
     "output_type": "display_data"
    }
   ],
   "source": [
    "fig, (ax1, ax2) = plt.subplots(1, 2, figsize=(10, 5))  # 1 row, 2 columns\n",
    "\n",
    "# First plot\n",
    "sns.boxplot(x='studytime', y='G3', data=portugal, ax=ax1)\n",
    "plt.ylabel('Final Grade')\n",
    "ax1.set_title('Effect of Study time on Final Grade')  # Set title for the first plot\n",
    "\n",
    "ax2# Second plot\n",
    "sns.boxplot(x='traveltime', y='G3', data=portugal, ax=ax2)\n",
    "plt.ylabel('Final Grade')\n",
    "ax2.set_title('Effect of Travel Time on Final Grade')  # Set title for the second plot\n",
    "\n",
    "# Display the plots\n",
    "plt.tight_layout()  # Adjusts subplot params so that subplots are nicely fit in the figure\n",
    "plt.show()"
   ]
  },
  {
   "cell_type": "markdown",
   "metadata": {},
   "source": [
    "students with the lowest study times both produced the lowest and highest grade in the class. On the other hand, students with the third longest commute time achieved the lowest/highest grade in the class. Each of the groups in both plots show evidence of outliers which either perform much better or worse than their peers with the same times. "
   ]
  },
  {
   "cell_type": "markdown",
   "metadata": {},
   "source": [
    "## Analyzing the Absence Trend"
   ]
  },
  {
   "cell_type": "code",
   "execution_count": 80,
   "metadata": {},
   "outputs": [
    {
     "data": {
      "image/png": "[encoded data removed]",
      "text/plain": [
       "<Figure size 640x480 with 1 Axes>"
      ]
     },
     "metadata": {},
     "output_type": "display_data"
    }
   ],
   "source": [
    "absence_scatter = sns.scatterplot(x=\"absences\", y=\"G3\", data = portugal)\n",
    "absence_scatter.set_title('Student Absences vs. Final Grade')\n",
    "absence_scatter.set_xlabel('Number of Absences')\n",
    "absence_scatter.set_ylabel('Final Grade')\n",
    "plt.show()"
   ]
  },
  {
   "cell_type": "markdown",
   "metadata": {},
   "source": [
    "Above we display the relationship between the absences and the final grade. The graph shows a quadratic (sloping downward relationship) between the two variables. Higher absences leads to higher grades."
   ]
  },
  {
   "cell_type": "code",
   "execution_count": 81,
   "metadata": {},
   "outputs": [
    {
     "data": {
      "image/png": "[encoded data removed]",
      "text/plain": [
       "<Figure size 2000x500 with 4 Axes>"
      ]
     },
     "metadata": {},
     "output_type": "display_data"
    },
    {
     "data": {
      "text/plain": [
       "<Figure size 640x480 with 0 Axes>"
      ]
     },
     "metadata": {},
     "output_type": "display_data"
    }
   ],
   "source": [
    "fig, axes = plt.subplots(1, 4, figsize=(20, 5))  # Adjust figsize as needed\n",
    "\n",
    "# Create four scatter plots\n",
    "sns.scatterplot(data= correlation_matrix, x= 'absences', y= 'G3', ax=axes[0], color= 'red')\n",
    "sns.scatterplot(data= correlation_matrix, x='studytime', y= 'G3', ax=axes[1], color='blue')\n",
    "sns.scatterplot(data= correlation_matrix, x='traveltime', y= 'G3', ax=axes[2], color='green')\n",
    "sns.scatterplot(data= correlation_matrix, x='health', y= 'G3', ax=axes[3], color='purple')\n",
    "\n",
    "\n",
    "axes[0].set_title('Absences vs Final Grade')\n",
    "axes[0].set_xlabel('Absences')\n",
    "axes[0].set_ylabel('Final Grade (G3)')\n",
    "\n",
    "axes[1].set_title('Study Time vs Final Grade')\n",
    "axes[1].set_xlabel('Study Time')\n",
    "axes[1].set_ylabel('Final Grade (G3)')\n",
    "\n",
    "axes[2].set_title('Travel Time vs Final Grade')\n",
    "axes[2].set_xlabel('Travel Time')\n",
    "axes[2].set_ylabel('Final Grade (G3)')\n",
    "\n",
    "axes[3].set_title('Health vs Final Grade')\n",
    "axes[3].set_xlabel('Health')\n",
    "axes[3].set_ylabel('Final Grade (G3)')\n",
    "\n",
    "# Improve spacing between plots\n",
    "plt.tight_layout()\n",
    "\n",
    "# Display the plots\n",
    "plt.show()\n",
    "\n",
    "# Improve spacing between plots\n",
    "plt.tight_layout()\n",
    "\n",
    "# Display the plots\n",
    "plt.show()"
   ]
  },
  {
   "cell_type": "markdown",
   "metadata": {},
   "source": [
    "Above we produce 4 scatter plots showing the relationship between 4 attributes and the final grade. We can surmize that absneces and travel time have a linear correlation with final grade for the class. "
   ]
  },
  {
   "cell_type": "markdown",
   "metadata": {},
   "source": [
    "## Conclusion"
   ]
  },
  {
   "cell_type": "markdown",
   "metadata": {},
   "source": [
    "We used python libraries to generate algorithms to help with discovery of insights for the portugese class dataset. We also included visualizations to communicate our results and findings. Lastly, the textbook was used a reference for particular pieces of code related to sorting."
   ]
  }
 ],
 "metadata": {
  "kernelspec": {
   "display_name": "Python 3",
   "language": "python",
   "name": "python3"
  },
  "language_info": {
   "codemirror_mode": {
    "name": "ipython",
    "version": 3
   },
   "file_extension": ".py",
   "mimetype": "text/x-python",
   "name": "python",
   "nbconvert_exporter": "python",
   "pygments_lexer": "ipython3",
   "version": "3.12.0"
  }
 },
 "nbformat": 4,
 "nbformat_minor": 2
}
